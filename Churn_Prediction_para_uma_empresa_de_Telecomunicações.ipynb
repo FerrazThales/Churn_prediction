{
  "nbformat": 4,
  "nbformat_minor": 0,
  "metadata": {
    "colab": {
      "name": "Churn Prediction para uma empresa de Telecomunicações.ipynb",
      "provenance": [],
      "collapsed_sections": [],
      "include_colab_link": true
    },
    "kernelspec": {
      "display_name": "Python 3",
      "name": "python3"
    }
  },
  "cells": [
    {
      "cell_type": "markdown",
      "metadata": {
        "id": "view-in-github",
        "colab_type": "text"
      },
      "source": [
        "<a href=\"https://colab.research.google.com/github/FerrazThales/Churn_prediction/blob/main/Churn_Prediction_para_uma_empresa_de_Telecomunica%C3%A7%C3%B5es.ipynb\" target=\"_parent\"><img src=\"https://colab.research.google.com/assets/colab-badge.svg\" alt=\"Open In Colab\"/></a>"
      ]
    },
    {
      "cell_type": "markdown",
      "metadata": {
        "id": "sC2BFMOKN1M7"
      },
      "source": [
        "<img width=\"32%\" src=\"https://github.com/FerrazThales/FerrazThales/blob/main/logo_gif.gif?raw=true\">\n",
        "\n",
        "[Thales Ferraz 👨‍💻 | Data Scientist](https://thalesferraz.medium.com/)\n",
        "\n",
        "* Visite também o meu artigo sobre esta análise no [Medium](https://thalesferraz.medium.com/churn-prediction-como-saber-quais-clientes-v%C3%A3o-deixar-sua-empresa-a02f65c68167)\n",
        "\n",
        "* Visite mais projetos do meu portfólio no [Github](https://bit.ly/3DQyZHu)\n",
        "\n",
        "* Vamos trocar mais idéias sobre Data Science no [LinkedIn](https://www.linkedin.com/in/thalesdefreitasferraz/)?\n"
      ]
    },
    {
      "cell_type": "markdown",
      "metadata": {
        "id": "yp1MKPqaVm2-"
      },
      "source": [
        "# *Você vai aprender aqui*\n",
        "\n",
        "* O que é **Churn** e como isso pode ser **importante** para o seu negócio.\n",
        "* Quais os **tipos de dados** são os melhores para serem utilizados neste problema.\n",
        "* Trabalhar com variáveis **categóricas** e **númericas**.\n",
        "* Como algoritmos de **classificação supervisionados** podem nos ajudar nestas situações."
      ]
    },
    {
      "cell_type": "markdown",
      "metadata": {
        "id": "IR56trFcPcC1"
      },
      "source": [
        "# Churn Prediction\n",
        "\n",
        "Clientes são considerados um dos grandes **ativos** de um negócio. Em um cenário **competitivo** em que o cliente possui inúmeras opções de escolhas, é necessário tentar fornecer a melhor experiência possível para os seus consumidores.\n",
        "\n",
        "*Churn rate*, ou simplesmente *churn*, representa a **taxa de evasão** da sua base de clientes. Em serviços como Spotify ou Netflix ela representaria a **taxa de cancelamento** de assinaturas em um determinado período.\n",
        "\n",
        "<p align=center>\n",
        "<img src=\"https://cdn.pixabay.com/photo/2017/10/03/19/17/bad-review-2813741_960_720.png\" width=\"40%\"></p>\n",
        "\n",
        "Esta taxa de cancelamento é de extrema importância para o **gerenciamento** e sua análise ao longo do tempo pode mostrar que existe algum **problema** que deve ser **atacado**. Já que se considera que os custos  para conquistar um **novo** cliente pode ser até 15x maior do que o para reter um cliente **atual**.\n",
        "\n",
        "Uma análise preditiva de *Churn* ajudará a identificar **potenciais cancelamentos** com um tempo de antecedência. Desta forma, possibilita a empresa a promover ações direcionadas para tentar **reter** os clientes que estão insatisfeitos. Ou até mesmo, avaliar se compensa manter estes clientes considerando as **receitas** que eles proporcionam."
      ]
    },
    {
      "cell_type": "markdown",
      "metadata": {
        "id": "0HVmpIxQWT4Y"
      },
      "source": [
        "## Obtenção dos Dados\n",
        "\n",
        "Os dados utilizados neste projeto foram **originalmente** disponibilizados na [plataforma de ensino da IBM Developer](https://developer.ibm.com/technologies/data-science/patterns/predict-customer-churn-using-watson-studio-and-jupyter-notebooks/#), e tratam de um problema **típico** de uma companhia de **telecomunicações**. O *dataset* completo pode ser encontrado [neste link](https://raw.githubusercontent.com/carlosfab/dsnp2/master/datasets/WA_Fn-UseC_-Telco-Customer-Churn.csv).\n",
        "\n",
        "É importante ressaltar que estes tipos de dados são extremamente utilizados para elaborar uma **estratégia de negócios**, portanto não são fáceis de se obter informações **atualizadas**.\n",
        "\n",
        "\n",
        "Para um melhor entendimento de nosso banco de dados foi elaborado um **pequeno dicionário** das variáveis:\n",
        "\n",
        "* *customerID*: identificação única do usuário na empresa.\n",
        "* *gender*: gênero do usuário.\n",
        "* *SeniorCitizen*: Se o cliente é idoso ou não.\n",
        "* *Partner*: Se o cliente possui acompanhante ou não.\n",
        "* *Dependents*: Se o cliente possui dependentes.\n",
        "* *tenure*: Período em que o cliente está na empresa.\n",
        "* *PhoneService*: Se o cliente optou por serviços telefônicos.\n",
        "* *MultipleLines*: Se o cliente possui múltiplas linhas de telefone.\n",
        "* *InternetService*: Se o cliente optou por serviços de internet.\n",
        "* *OnlineSecurity*: Se o cliente optou pelos serviços de segurança na internet.\n",
        "* *OnlineBackup*: Se o cliente optou por serviços de backup na internet.\n",
        "* *DeviceProtection*: Se o cliente optou por serviços de proteção de seu equipamento.\n",
        "* *TechSupport*: Se o cliente optou por serviços de ajuda técnica na internet.\n",
        "* *StreamingTV*: Se o cliente optou por serviços de streaming na TV.\n",
        "* *StreamingMovies*: Se o cliente optou por serviços de streaming para Filmes.\n",
        "* *Contract*: Tipo de contrato do cliente (mensal, anual ou de dois anos).\n",
        "* *PaperlessBilling*: Se o cliente optou pelo faturamento online.\n",
        "* *PaymentMethod*: Forma de pagamento (cheque eletrônico - [sim, existiu](https://www1.folha.uol.com.br/fsp/1996/1/31/dinheiro/12.html); um cheque por e-mail - [sim,existiu](https://forum.wordreference.com/threads/a-mailed-check-must-clear-the-bank.866139/) ; transferência bancária e cartão de crédito.\n",
        "* *MonthlyCharges*: Recargas mensais.\n",
        "* *TotalCharges*: Recargas durante todo o período em que o cliente está na empresa.\n",
        "* *Churn*: Se o cliente abandonou a empresa."
      ]
    },
    {
      "cell_type": "code",
      "metadata": {
        "id": "IPYR7ln9U4zr"
      },
      "source": [
        "#retirando warnings do código\n",
        "import warnings\n",
        "warnings.filterwarnings('ignore')\n",
        "\n",
        "# importar os módulos padrão\n",
        "import pandas as pd\n",
        "import matplotlib.pyplot as plt\n",
        "%matplotlib inline\n",
        "import numpy as np\n",
        "\n",
        "#módulos do sklearn\n",
        "from sklearn.preprocessing import StandardScaler,LabelEncoder,OneHotEncoder\n",
        "from sklearn.model_selection import train_test_split,GridSearchCV\n",
        "from sklearn.linear_model import LogisticRegression\n",
        "from sklearn.pipeline import Pipeline\n",
        "from sklearn.compose import ColumnTransformer\n",
        "from sklearn.metrics import plot_confusion_matrix\n",
        "\n",
        "#importando o Classificador do xgboost\n",
        "from xgboost import XGBClassifier\n",
        "\n",
        "#algoritmo para under sampling (balanceamento dos dados)\n",
        "from imblearn.under_sampling import RandomUnderSampler"
      ],
      "execution_count": 1,
      "outputs": []
    },
    {
      "cell_type": "code",
      "metadata": {
        "id": "oQ4bNy7udtEE",
        "colab": {
          "base_uri": "https://localhost:8080/",
          "height": 309
        },
        "outputId": "b15999a9-5fe3-4b1a-a347-aba0c1f770f3"
      },
      "source": [
        "# importar os dados\n",
        "endereco_dos_dados = \"https://raw.githubusercontent.com/carlosfab/dsnp2/master/datasets/WA_Fn-UseC_-Telco-Customer-Churn.csv\"\n",
        "df = pd.read_csv(endereco_dos_dados)\n",
        "\n",
        "# ver as 5 primeiras entradas\n",
        "df.head()"
      ],
      "execution_count": 2,
      "outputs": [
        {
          "output_type": "execute_result",
          "data": {
            "text/html": [
              "<div>\n",
              "<style scoped>\n",
              "    .dataframe tbody tr th:only-of-type {\n",
              "        vertical-align: middle;\n",
              "    }\n",
              "\n",
              "    .dataframe tbody tr th {\n",
              "        vertical-align: top;\n",
              "    }\n",
              "\n",
              "    .dataframe thead th {\n",
              "        text-align: right;\n",
              "    }\n",
              "</style>\n",
              "<table border=\"1\" class=\"dataframe\">\n",
              "  <thead>\n",
              "    <tr style=\"text-align: right;\">\n",
              "      <th></th>\n",
              "      <th>customerID</th>\n",
              "      <th>gender</th>\n",
              "      <th>SeniorCitizen</th>\n",
              "      <th>Partner</th>\n",
              "      <th>Dependents</th>\n",
              "      <th>tenure</th>\n",
              "      <th>PhoneService</th>\n",
              "      <th>MultipleLines</th>\n",
              "      <th>InternetService</th>\n",
              "      <th>OnlineSecurity</th>\n",
              "      <th>OnlineBackup</th>\n",
              "      <th>DeviceProtection</th>\n",
              "      <th>TechSupport</th>\n",
              "      <th>StreamingTV</th>\n",
              "      <th>StreamingMovies</th>\n",
              "      <th>Contract</th>\n",
              "      <th>PaperlessBilling</th>\n",
              "      <th>PaymentMethod</th>\n",
              "      <th>MonthlyCharges</th>\n",
              "      <th>TotalCharges</th>\n",
              "      <th>Churn</th>\n",
              "    </tr>\n",
              "  </thead>\n",
              "  <tbody>\n",
              "    <tr>\n",
              "      <th>0</th>\n",
              "      <td>7590-VHVEG</td>\n",
              "      <td>Female</td>\n",
              "      <td>0</td>\n",
              "      <td>Yes</td>\n",
              "      <td>No</td>\n",
              "      <td>1</td>\n",
              "      <td>No</td>\n",
              "      <td>No phone service</td>\n",
              "      <td>DSL</td>\n",
              "      <td>No</td>\n",
              "      <td>Yes</td>\n",
              "      <td>No</td>\n",
              "      <td>No</td>\n",
              "      <td>No</td>\n",
              "      <td>No</td>\n",
              "      <td>Month-to-month</td>\n",
              "      <td>Yes</td>\n",
              "      <td>Electronic check</td>\n",
              "      <td>29.85</td>\n",
              "      <td>29.85</td>\n",
              "      <td>No</td>\n",
              "    </tr>\n",
              "    <tr>\n",
              "      <th>1</th>\n",
              "      <td>5575-GNVDE</td>\n",
              "      <td>Male</td>\n",
              "      <td>0</td>\n",
              "      <td>No</td>\n",
              "      <td>No</td>\n",
              "      <td>34</td>\n",
              "      <td>Yes</td>\n",
              "      <td>No</td>\n",
              "      <td>DSL</td>\n",
              "      <td>Yes</td>\n",
              "      <td>No</td>\n",
              "      <td>Yes</td>\n",
              "      <td>No</td>\n",
              "      <td>No</td>\n",
              "      <td>No</td>\n",
              "      <td>One year</td>\n",
              "      <td>No</td>\n",
              "      <td>Mailed check</td>\n",
              "      <td>56.95</td>\n",
              "      <td>1889.5</td>\n",
              "      <td>No</td>\n",
              "    </tr>\n",
              "    <tr>\n",
              "      <th>2</th>\n",
              "      <td>3668-QPYBK</td>\n",
              "      <td>Male</td>\n",
              "      <td>0</td>\n",
              "      <td>No</td>\n",
              "      <td>No</td>\n",
              "      <td>2</td>\n",
              "      <td>Yes</td>\n",
              "      <td>No</td>\n",
              "      <td>DSL</td>\n",
              "      <td>Yes</td>\n",
              "      <td>Yes</td>\n",
              "      <td>No</td>\n",
              "      <td>No</td>\n",
              "      <td>No</td>\n",
              "      <td>No</td>\n",
              "      <td>Month-to-month</td>\n",
              "      <td>Yes</td>\n",
              "      <td>Mailed check</td>\n",
              "      <td>53.85</td>\n",
              "      <td>108.15</td>\n",
              "      <td>Yes</td>\n",
              "    </tr>\n",
              "    <tr>\n",
              "      <th>3</th>\n",
              "      <td>7795-CFOCW</td>\n",
              "      <td>Male</td>\n",
              "      <td>0</td>\n",
              "      <td>No</td>\n",
              "      <td>No</td>\n",
              "      <td>45</td>\n",
              "      <td>No</td>\n",
              "      <td>No phone service</td>\n",
              "      <td>DSL</td>\n",
              "      <td>Yes</td>\n",
              "      <td>No</td>\n",
              "      <td>Yes</td>\n",
              "      <td>Yes</td>\n",
              "      <td>No</td>\n",
              "      <td>No</td>\n",
              "      <td>One year</td>\n",
              "      <td>No</td>\n",
              "      <td>Bank transfer (automatic)</td>\n",
              "      <td>42.30</td>\n",
              "      <td>1840.75</td>\n",
              "      <td>No</td>\n",
              "    </tr>\n",
              "    <tr>\n",
              "      <th>4</th>\n",
              "      <td>9237-HQITU</td>\n",
              "      <td>Female</td>\n",
              "      <td>0</td>\n",
              "      <td>No</td>\n",
              "      <td>No</td>\n",
              "      <td>2</td>\n",
              "      <td>Yes</td>\n",
              "      <td>No</td>\n",
              "      <td>Fiber optic</td>\n",
              "      <td>No</td>\n",
              "      <td>No</td>\n",
              "      <td>No</td>\n",
              "      <td>No</td>\n",
              "      <td>No</td>\n",
              "      <td>No</td>\n",
              "      <td>Month-to-month</td>\n",
              "      <td>Yes</td>\n",
              "      <td>Electronic check</td>\n",
              "      <td>70.70</td>\n",
              "      <td>151.65</td>\n",
              "      <td>Yes</td>\n",
              "    </tr>\n",
              "  </tbody>\n",
              "</table>\n",
              "</div>"
            ],
            "text/plain": [
              "   customerID  gender  SeniorCitizen  ... MonthlyCharges TotalCharges  Churn\n",
              "0  7590-VHVEG  Female              0  ...          29.85        29.85     No\n",
              "1  5575-GNVDE    Male              0  ...          56.95       1889.5     No\n",
              "2  3668-QPYBK    Male              0  ...          53.85       108.15    Yes\n",
              "3  7795-CFOCW    Male              0  ...          42.30      1840.75     No\n",
              "4  9237-HQITU  Female              0  ...          70.70       151.65    Yes\n",
              "\n",
              "[5 rows x 21 columns]"
            ]
          },
          "metadata": {},
          "execution_count": 2
        }
      ]
    },
    {
      "cell_type": "markdown",
      "metadata": {
        "id": "TXKAS5Y1iW0W"
      },
      "source": [
        "## Análise Exploratória dos Dados"
      ]
    },
    {
      "cell_type": "code",
      "metadata": {
        "id": "_k160cdTiiGj",
        "colab": {
          "base_uri": "https://localhost:8080/"
        },
        "outputId": "5cbf71df-5da8-4d21-aec3-113922dc3396"
      },
      "source": [
        "#Avaliando o tamanho do dataset\n",
        "print('Este dataset contém:')\n",
        "print('{:,} entradas'.format(df.shape[0]).replace(',','.'))\n",
        "print('{} variáveis'.format(df.shape[1]))"
      ],
      "execution_count": 3,
      "outputs": [
        {
          "output_type": "stream",
          "name": "stdout",
          "text": [
            "Este dataset contém:\n",
            "7.043 entradas\n",
            "21 variáveis\n"
          ]
        }
      ]
    },
    {
      "cell_type": "code",
      "metadata": {
        "id": "-Wu2YIKIiiNq",
        "colab": {
          "base_uri": "https://localhost:8080/",
          "height": 700
        },
        "outputId": "01f60c96-71df-46bc-b407-89e4e82fde3a"
      },
      "source": [
        "#Tipo de variáveis de nossa base de dados\n",
        "pd.DataFrame(df.dtypes,columns=['Tipo de Dados'])"
      ],
      "execution_count": 4,
      "outputs": [
        {
          "output_type": "execute_result",
          "data": {
            "text/html": [
              "<div>\n",
              "<style scoped>\n",
              "    .dataframe tbody tr th:only-of-type {\n",
              "        vertical-align: middle;\n",
              "    }\n",
              "\n",
              "    .dataframe tbody tr th {\n",
              "        vertical-align: top;\n",
              "    }\n",
              "\n",
              "    .dataframe thead th {\n",
              "        text-align: right;\n",
              "    }\n",
              "</style>\n",
              "<table border=\"1\" class=\"dataframe\">\n",
              "  <thead>\n",
              "    <tr style=\"text-align: right;\">\n",
              "      <th></th>\n",
              "      <th>Tipo de Dados</th>\n",
              "    </tr>\n",
              "  </thead>\n",
              "  <tbody>\n",
              "    <tr>\n",
              "      <th>customerID</th>\n",
              "      <td>object</td>\n",
              "    </tr>\n",
              "    <tr>\n",
              "      <th>gender</th>\n",
              "      <td>object</td>\n",
              "    </tr>\n",
              "    <tr>\n",
              "      <th>SeniorCitizen</th>\n",
              "      <td>int64</td>\n",
              "    </tr>\n",
              "    <tr>\n",
              "      <th>Partner</th>\n",
              "      <td>object</td>\n",
              "    </tr>\n",
              "    <tr>\n",
              "      <th>Dependents</th>\n",
              "      <td>object</td>\n",
              "    </tr>\n",
              "    <tr>\n",
              "      <th>tenure</th>\n",
              "      <td>int64</td>\n",
              "    </tr>\n",
              "    <tr>\n",
              "      <th>PhoneService</th>\n",
              "      <td>object</td>\n",
              "    </tr>\n",
              "    <tr>\n",
              "      <th>MultipleLines</th>\n",
              "      <td>object</td>\n",
              "    </tr>\n",
              "    <tr>\n",
              "      <th>InternetService</th>\n",
              "      <td>object</td>\n",
              "    </tr>\n",
              "    <tr>\n",
              "      <th>OnlineSecurity</th>\n",
              "      <td>object</td>\n",
              "    </tr>\n",
              "    <tr>\n",
              "      <th>OnlineBackup</th>\n",
              "      <td>object</td>\n",
              "    </tr>\n",
              "    <tr>\n",
              "      <th>DeviceProtection</th>\n",
              "      <td>object</td>\n",
              "    </tr>\n",
              "    <tr>\n",
              "      <th>TechSupport</th>\n",
              "      <td>object</td>\n",
              "    </tr>\n",
              "    <tr>\n",
              "      <th>StreamingTV</th>\n",
              "      <td>object</td>\n",
              "    </tr>\n",
              "    <tr>\n",
              "      <th>StreamingMovies</th>\n",
              "      <td>object</td>\n",
              "    </tr>\n",
              "    <tr>\n",
              "      <th>Contract</th>\n",
              "      <td>object</td>\n",
              "    </tr>\n",
              "    <tr>\n",
              "      <th>PaperlessBilling</th>\n",
              "      <td>object</td>\n",
              "    </tr>\n",
              "    <tr>\n",
              "      <th>PaymentMethod</th>\n",
              "      <td>object</td>\n",
              "    </tr>\n",
              "    <tr>\n",
              "      <th>MonthlyCharges</th>\n",
              "      <td>float64</td>\n",
              "    </tr>\n",
              "    <tr>\n",
              "      <th>TotalCharges</th>\n",
              "      <td>object</td>\n",
              "    </tr>\n",
              "    <tr>\n",
              "      <th>Churn</th>\n",
              "      <td>object</td>\n",
              "    </tr>\n",
              "  </tbody>\n",
              "</table>\n",
              "</div>"
            ],
            "text/plain": [
              "                 Tipo de Dados\n",
              "customerID              object\n",
              "gender                  object\n",
              "SeniorCitizen            int64\n",
              "Partner                 object\n",
              "Dependents              object\n",
              "tenure                   int64\n",
              "PhoneService            object\n",
              "MultipleLines           object\n",
              "InternetService         object\n",
              "OnlineSecurity          object\n",
              "OnlineBackup            object\n",
              "DeviceProtection        object\n",
              "TechSupport             object\n",
              "StreamingTV             object\n",
              "StreamingMovies         object\n",
              "Contract                object\n",
              "PaperlessBilling        object\n",
              "PaymentMethod           object\n",
              "MonthlyCharges         float64\n",
              "TotalCharges            object\n",
              "Churn                   object"
            ]
          },
          "metadata": {},
          "execution_count": 4
        }
      ]
    },
    {
      "cell_type": "markdown",
      "metadata": {
        "id": "vMBjasG5jBjY"
      },
      "source": [
        "Existem muitas variáveis do tipo *object* que precisam ser **convertidas** para variáveis **númericas**. Esta conversão tem o intuito de melhorar a **performance** de nossos algoritmos. Uma das principáis variáveis nesta situação é o **Churn** que posteriormente terá um melhor tipo de tratamento."
      ]
    },
    {
      "cell_type": "code",
      "metadata": {
        "id": "5oE24OmOjWgn",
        "colab": {
          "base_uri": "https://localhost:8080/",
          "height": 700
        },
        "outputId": "cbbc9353-882b-4168-fc98-8f2ab6d038f5"
      },
      "source": [
        "#Avaliando a quantidade de valores ausentes\n",
        "pd.DataFrame(df.isnull().sum(),columns=['Quantidade de valores ausentes'])"
      ],
      "execution_count": 5,
      "outputs": [
        {
          "output_type": "execute_result",
          "data": {
            "text/html": [
              "<div>\n",
              "<style scoped>\n",
              "    .dataframe tbody tr th:only-of-type {\n",
              "        vertical-align: middle;\n",
              "    }\n",
              "\n",
              "    .dataframe tbody tr th {\n",
              "        vertical-align: top;\n",
              "    }\n",
              "\n",
              "    .dataframe thead th {\n",
              "        text-align: right;\n",
              "    }\n",
              "</style>\n",
              "<table border=\"1\" class=\"dataframe\">\n",
              "  <thead>\n",
              "    <tr style=\"text-align: right;\">\n",
              "      <th></th>\n",
              "      <th>Quantidade de valores ausentes</th>\n",
              "    </tr>\n",
              "  </thead>\n",
              "  <tbody>\n",
              "    <tr>\n",
              "      <th>customerID</th>\n",
              "      <td>0</td>\n",
              "    </tr>\n",
              "    <tr>\n",
              "      <th>gender</th>\n",
              "      <td>0</td>\n",
              "    </tr>\n",
              "    <tr>\n",
              "      <th>SeniorCitizen</th>\n",
              "      <td>0</td>\n",
              "    </tr>\n",
              "    <tr>\n",
              "      <th>Partner</th>\n",
              "      <td>0</td>\n",
              "    </tr>\n",
              "    <tr>\n",
              "      <th>Dependents</th>\n",
              "      <td>0</td>\n",
              "    </tr>\n",
              "    <tr>\n",
              "      <th>tenure</th>\n",
              "      <td>0</td>\n",
              "    </tr>\n",
              "    <tr>\n",
              "      <th>PhoneService</th>\n",
              "      <td>0</td>\n",
              "    </tr>\n",
              "    <tr>\n",
              "      <th>MultipleLines</th>\n",
              "      <td>0</td>\n",
              "    </tr>\n",
              "    <tr>\n",
              "      <th>InternetService</th>\n",
              "      <td>0</td>\n",
              "    </tr>\n",
              "    <tr>\n",
              "      <th>OnlineSecurity</th>\n",
              "      <td>0</td>\n",
              "    </tr>\n",
              "    <tr>\n",
              "      <th>OnlineBackup</th>\n",
              "      <td>0</td>\n",
              "    </tr>\n",
              "    <tr>\n",
              "      <th>DeviceProtection</th>\n",
              "      <td>0</td>\n",
              "    </tr>\n",
              "    <tr>\n",
              "      <th>TechSupport</th>\n",
              "      <td>0</td>\n",
              "    </tr>\n",
              "    <tr>\n",
              "      <th>StreamingTV</th>\n",
              "      <td>0</td>\n",
              "    </tr>\n",
              "    <tr>\n",
              "      <th>StreamingMovies</th>\n",
              "      <td>0</td>\n",
              "    </tr>\n",
              "    <tr>\n",
              "      <th>Contract</th>\n",
              "      <td>0</td>\n",
              "    </tr>\n",
              "    <tr>\n",
              "      <th>PaperlessBilling</th>\n",
              "      <td>0</td>\n",
              "    </tr>\n",
              "    <tr>\n",
              "      <th>PaymentMethod</th>\n",
              "      <td>0</td>\n",
              "    </tr>\n",
              "    <tr>\n",
              "      <th>MonthlyCharges</th>\n",
              "      <td>0</td>\n",
              "    </tr>\n",
              "    <tr>\n",
              "      <th>TotalCharges</th>\n",
              "      <td>0</td>\n",
              "    </tr>\n",
              "    <tr>\n",
              "      <th>Churn</th>\n",
              "      <td>0</td>\n",
              "    </tr>\n",
              "  </tbody>\n",
              "</table>\n",
              "</div>"
            ],
            "text/plain": [
              "                  Quantidade de valores ausentes\n",
              "customerID                                     0\n",
              "gender                                         0\n",
              "SeniorCitizen                                  0\n",
              "Partner                                        0\n",
              "Dependents                                     0\n",
              "tenure                                         0\n",
              "PhoneService                                   0\n",
              "MultipleLines                                  0\n",
              "InternetService                                0\n",
              "OnlineSecurity                                 0\n",
              "OnlineBackup                                   0\n",
              "DeviceProtection                               0\n",
              "TechSupport                                    0\n",
              "StreamingTV                                    0\n",
              "StreamingMovies                                0\n",
              "Contract                                       0\n",
              "PaperlessBilling                               0\n",
              "PaymentMethod                                  0\n",
              "MonthlyCharges                                 0\n",
              "TotalCharges                                   0\n",
              "Churn                                          0"
            ]
          },
          "metadata": {},
          "execution_count": 5
        }
      ]
    },
    {
      "cell_type": "markdown",
      "metadata": {
        "id": "gvQxDdqV4MpK"
      },
      "source": [
        "Aparentemente não existem valores vazios, mas vamos **observar** um pouco mais algumas samples."
      ]
    },
    {
      "cell_type": "code",
      "metadata": {
        "id": "0WZpC7EQ4fwQ",
        "colab": {
          "base_uri": "https://localhost:8080/",
          "height": 80
        },
        "outputId": "1b33bfe5-249e-42a2-c9ce-b8b483639d25"
      },
      "source": [
        "df[['customerID','gender','tenure','MonthlyCharges','TotalCharges','Churn']][df['customerID'] == '2923-ARZLG']"
      ],
      "execution_count": 6,
      "outputs": [
        {
          "output_type": "execute_result",
          "data": {
            "text/html": [
              "<div>\n",
              "<style scoped>\n",
              "    .dataframe tbody tr th:only-of-type {\n",
              "        vertical-align: middle;\n",
              "    }\n",
              "\n",
              "    .dataframe tbody tr th {\n",
              "        vertical-align: top;\n",
              "    }\n",
              "\n",
              "    .dataframe thead th {\n",
              "        text-align: right;\n",
              "    }\n",
              "</style>\n",
              "<table border=\"1\" class=\"dataframe\">\n",
              "  <thead>\n",
              "    <tr style=\"text-align: right;\">\n",
              "      <th></th>\n",
              "      <th>customerID</th>\n",
              "      <th>gender</th>\n",
              "      <th>tenure</th>\n",
              "      <th>MonthlyCharges</th>\n",
              "      <th>TotalCharges</th>\n",
              "      <th>Churn</th>\n",
              "    </tr>\n",
              "  </thead>\n",
              "  <tbody>\n",
              "    <tr>\n",
              "      <th>5218</th>\n",
              "      <td>2923-ARZLG</td>\n",
              "      <td>Male</td>\n",
              "      <td>0</td>\n",
              "      <td>19.7</td>\n",
              "      <td></td>\n",
              "      <td>No</td>\n",
              "    </tr>\n",
              "  </tbody>\n",
              "</table>\n",
              "</div>"
            ],
            "text/plain": [
              "      customerID gender  tenure  MonthlyCharges TotalCharges Churn\n",
              "5218  2923-ARZLG   Male       0            19.7                 No"
            ]
          },
          "metadata": {},
          "execution_count": 6
        }
      ]
    },
    {
      "cell_type": "markdown",
      "metadata": {
        "id": "GpwHp4I84okO"
      },
      "source": [
        "Ao analisar um pouco mais a variável **tenure**, notamos que quando ela apresenta valor **zero** (ou seja, o cliente ainda não completou um período na empresa) o valor da variável **TotalCharges** está vazio."
      ]
    },
    {
      "cell_type": "code",
      "metadata": {
        "id": "tqL8jjZ67sjd",
        "colab": {
          "base_uri": "https://localhost:8080/",
          "height": 390
        },
        "outputId": "b529fd01-c91c-4677-d10a-f3137db961e3"
      },
      "source": [
        "df[['customerID','gender','tenure','MonthlyCharges','TotalCharges','Churn']][df['tenure'] == 0]"
      ],
      "execution_count": 7,
      "outputs": [
        {
          "output_type": "execute_result",
          "data": {
            "text/html": [
              "<div>\n",
              "<style scoped>\n",
              "    .dataframe tbody tr th:only-of-type {\n",
              "        vertical-align: middle;\n",
              "    }\n",
              "\n",
              "    .dataframe tbody tr th {\n",
              "        vertical-align: top;\n",
              "    }\n",
              "\n",
              "    .dataframe thead th {\n",
              "        text-align: right;\n",
              "    }\n",
              "</style>\n",
              "<table border=\"1\" class=\"dataframe\">\n",
              "  <thead>\n",
              "    <tr style=\"text-align: right;\">\n",
              "      <th></th>\n",
              "      <th>customerID</th>\n",
              "      <th>gender</th>\n",
              "      <th>tenure</th>\n",
              "      <th>MonthlyCharges</th>\n",
              "      <th>TotalCharges</th>\n",
              "      <th>Churn</th>\n",
              "    </tr>\n",
              "  </thead>\n",
              "  <tbody>\n",
              "    <tr>\n",
              "      <th>488</th>\n",
              "      <td>4472-LVYGI</td>\n",
              "      <td>Female</td>\n",
              "      <td>0</td>\n",
              "      <td>52.55</td>\n",
              "      <td></td>\n",
              "      <td>No</td>\n",
              "    </tr>\n",
              "    <tr>\n",
              "      <th>753</th>\n",
              "      <td>3115-CZMZD</td>\n",
              "      <td>Male</td>\n",
              "      <td>0</td>\n",
              "      <td>20.25</td>\n",
              "      <td></td>\n",
              "      <td>No</td>\n",
              "    </tr>\n",
              "    <tr>\n",
              "      <th>936</th>\n",
              "      <td>5709-LVOEQ</td>\n",
              "      <td>Female</td>\n",
              "      <td>0</td>\n",
              "      <td>80.85</td>\n",
              "      <td></td>\n",
              "      <td>No</td>\n",
              "    </tr>\n",
              "    <tr>\n",
              "      <th>1082</th>\n",
              "      <td>4367-NUYAO</td>\n",
              "      <td>Male</td>\n",
              "      <td>0</td>\n",
              "      <td>25.75</td>\n",
              "      <td></td>\n",
              "      <td>No</td>\n",
              "    </tr>\n",
              "    <tr>\n",
              "      <th>1340</th>\n",
              "      <td>1371-DWPAZ</td>\n",
              "      <td>Female</td>\n",
              "      <td>0</td>\n",
              "      <td>56.05</td>\n",
              "      <td></td>\n",
              "      <td>No</td>\n",
              "    </tr>\n",
              "    <tr>\n",
              "      <th>3331</th>\n",
              "      <td>7644-OMVMY</td>\n",
              "      <td>Male</td>\n",
              "      <td>0</td>\n",
              "      <td>19.85</td>\n",
              "      <td></td>\n",
              "      <td>No</td>\n",
              "    </tr>\n",
              "    <tr>\n",
              "      <th>3826</th>\n",
              "      <td>3213-VVOLG</td>\n",
              "      <td>Male</td>\n",
              "      <td>0</td>\n",
              "      <td>25.35</td>\n",
              "      <td></td>\n",
              "      <td>No</td>\n",
              "    </tr>\n",
              "    <tr>\n",
              "      <th>4380</th>\n",
              "      <td>2520-SGTTA</td>\n",
              "      <td>Female</td>\n",
              "      <td>0</td>\n",
              "      <td>20.00</td>\n",
              "      <td></td>\n",
              "      <td>No</td>\n",
              "    </tr>\n",
              "    <tr>\n",
              "      <th>5218</th>\n",
              "      <td>2923-ARZLG</td>\n",
              "      <td>Male</td>\n",
              "      <td>0</td>\n",
              "      <td>19.70</td>\n",
              "      <td></td>\n",
              "      <td>No</td>\n",
              "    </tr>\n",
              "    <tr>\n",
              "      <th>6670</th>\n",
              "      <td>4075-WKNIU</td>\n",
              "      <td>Female</td>\n",
              "      <td>0</td>\n",
              "      <td>73.35</td>\n",
              "      <td></td>\n",
              "      <td>No</td>\n",
              "    </tr>\n",
              "    <tr>\n",
              "      <th>6754</th>\n",
              "      <td>2775-SEFEE</td>\n",
              "      <td>Male</td>\n",
              "      <td>0</td>\n",
              "      <td>61.90</td>\n",
              "      <td></td>\n",
              "      <td>No</td>\n",
              "    </tr>\n",
              "  </tbody>\n",
              "</table>\n",
              "</div>"
            ],
            "text/plain": [
              "      customerID  gender  tenure  MonthlyCharges TotalCharges Churn\n",
              "488   4472-LVYGI  Female       0           52.55                 No\n",
              "753   3115-CZMZD    Male       0           20.25                 No\n",
              "936   5709-LVOEQ  Female       0           80.85                 No\n",
              "1082  4367-NUYAO    Male       0           25.75                 No\n",
              "1340  1371-DWPAZ  Female       0           56.05                 No\n",
              "3331  7644-OMVMY    Male       0           19.85                 No\n",
              "3826  3213-VVOLG    Male       0           25.35                 No\n",
              "4380  2520-SGTTA  Female       0           20.00                 No\n",
              "5218  2923-ARZLG    Male       0           19.70                 No\n",
              "6670  4075-WKNIU  Female       0           73.35                 No\n",
              "6754  2775-SEFEE    Male       0           61.90                 No"
            ]
          },
          "metadata": {},
          "execution_count": 7
        }
      ]
    },
    {
      "cell_type": "code",
      "metadata": {
        "id": "LY1yOD5R1lyL"
      },
      "source": [
        "#mudando o TotalCharges para float\n",
        "df['TotalCharges']=pd.to_numeric(df['TotalCharges'],errors='coerce')"
      ],
      "execution_count": 8,
      "outputs": []
    },
    {
      "cell_type": "code",
      "metadata": {
        "id": "dy9_aSMs4Shi",
        "colab": {
          "base_uri": "https://localhost:8080/",
          "height": 700
        },
        "outputId": "f1a625e5-166c-4179-fdd8-f314ac26ada6"
      },
      "source": [
        "#Avaliando a quantidade de valores ausentes após transformar em float\n",
        "pd.DataFrame(df.isnull().sum(),columns=['Quantidade de valores ausentes'])"
      ],
      "execution_count": 9,
      "outputs": [
        {
          "output_type": "execute_result",
          "data": {
            "text/html": [
              "<div>\n",
              "<style scoped>\n",
              "    .dataframe tbody tr th:only-of-type {\n",
              "        vertical-align: middle;\n",
              "    }\n",
              "\n",
              "    .dataframe tbody tr th {\n",
              "        vertical-align: top;\n",
              "    }\n",
              "\n",
              "    .dataframe thead th {\n",
              "        text-align: right;\n",
              "    }\n",
              "</style>\n",
              "<table border=\"1\" class=\"dataframe\">\n",
              "  <thead>\n",
              "    <tr style=\"text-align: right;\">\n",
              "      <th></th>\n",
              "      <th>Quantidade de valores ausentes</th>\n",
              "    </tr>\n",
              "  </thead>\n",
              "  <tbody>\n",
              "    <tr>\n",
              "      <th>customerID</th>\n",
              "      <td>0</td>\n",
              "    </tr>\n",
              "    <tr>\n",
              "      <th>gender</th>\n",
              "      <td>0</td>\n",
              "    </tr>\n",
              "    <tr>\n",
              "      <th>SeniorCitizen</th>\n",
              "      <td>0</td>\n",
              "    </tr>\n",
              "    <tr>\n",
              "      <th>Partner</th>\n",
              "      <td>0</td>\n",
              "    </tr>\n",
              "    <tr>\n",
              "      <th>Dependents</th>\n",
              "      <td>0</td>\n",
              "    </tr>\n",
              "    <tr>\n",
              "      <th>tenure</th>\n",
              "      <td>0</td>\n",
              "    </tr>\n",
              "    <tr>\n",
              "      <th>PhoneService</th>\n",
              "      <td>0</td>\n",
              "    </tr>\n",
              "    <tr>\n",
              "      <th>MultipleLines</th>\n",
              "      <td>0</td>\n",
              "    </tr>\n",
              "    <tr>\n",
              "      <th>InternetService</th>\n",
              "      <td>0</td>\n",
              "    </tr>\n",
              "    <tr>\n",
              "      <th>OnlineSecurity</th>\n",
              "      <td>0</td>\n",
              "    </tr>\n",
              "    <tr>\n",
              "      <th>OnlineBackup</th>\n",
              "      <td>0</td>\n",
              "    </tr>\n",
              "    <tr>\n",
              "      <th>DeviceProtection</th>\n",
              "      <td>0</td>\n",
              "    </tr>\n",
              "    <tr>\n",
              "      <th>TechSupport</th>\n",
              "      <td>0</td>\n",
              "    </tr>\n",
              "    <tr>\n",
              "      <th>StreamingTV</th>\n",
              "      <td>0</td>\n",
              "    </tr>\n",
              "    <tr>\n",
              "      <th>StreamingMovies</th>\n",
              "      <td>0</td>\n",
              "    </tr>\n",
              "    <tr>\n",
              "      <th>Contract</th>\n",
              "      <td>0</td>\n",
              "    </tr>\n",
              "    <tr>\n",
              "      <th>PaperlessBilling</th>\n",
              "      <td>0</td>\n",
              "    </tr>\n",
              "    <tr>\n",
              "      <th>PaymentMethod</th>\n",
              "      <td>0</td>\n",
              "    </tr>\n",
              "    <tr>\n",
              "      <th>MonthlyCharges</th>\n",
              "      <td>0</td>\n",
              "    </tr>\n",
              "    <tr>\n",
              "      <th>TotalCharges</th>\n",
              "      <td>11</td>\n",
              "    </tr>\n",
              "    <tr>\n",
              "      <th>Churn</th>\n",
              "      <td>0</td>\n",
              "    </tr>\n",
              "  </tbody>\n",
              "</table>\n",
              "</div>"
            ],
            "text/plain": [
              "                  Quantidade de valores ausentes\n",
              "customerID                                     0\n",
              "gender                                         0\n",
              "SeniorCitizen                                  0\n",
              "Partner                                        0\n",
              "Dependents                                     0\n",
              "tenure                                         0\n",
              "PhoneService                                   0\n",
              "MultipleLines                                  0\n",
              "InternetService                                0\n",
              "OnlineSecurity                                 0\n",
              "OnlineBackup                                   0\n",
              "DeviceProtection                               0\n",
              "TechSupport                                    0\n",
              "StreamingTV                                    0\n",
              "StreamingMovies                                0\n",
              "Contract                                       0\n",
              "PaperlessBilling                               0\n",
              "PaymentMethod                                  0\n",
              "MonthlyCharges                                 0\n",
              "TotalCharges                                  11\n",
              "Churn                                          0"
            ]
          },
          "metadata": {},
          "execution_count": 9
        }
      ]
    },
    {
      "cell_type": "markdown",
      "metadata": {
        "id": "xzFtHm4z4Tor"
      },
      "source": [
        "Ao **converter** a variável **TotalCharges** em float, surgem 11 valores **vazios**. Estes valores são todos os que tem o **tenure** igual a zero."
      ]
    },
    {
      "cell_type": "code",
      "metadata": {
        "id": "iPShqtyE3lbc",
        "colab": {
          "base_uri": "https://localhost:8080/",
          "height": 80
        },
        "outputId": "43a262b0-9e5b-485e-b3d6-31df9f1389f4"
      },
      "source": [
        "df[['customerID','gender','tenure','MonthlyCharges','TotalCharges','Churn']][df['customerID'] == '2923-ARZLG']"
      ],
      "execution_count": 10,
      "outputs": [
        {
          "output_type": "execute_result",
          "data": {
            "text/html": [
              "<div>\n",
              "<style scoped>\n",
              "    .dataframe tbody tr th:only-of-type {\n",
              "        vertical-align: middle;\n",
              "    }\n",
              "\n",
              "    .dataframe tbody tr th {\n",
              "        vertical-align: top;\n",
              "    }\n",
              "\n",
              "    .dataframe thead th {\n",
              "        text-align: right;\n",
              "    }\n",
              "</style>\n",
              "<table border=\"1\" class=\"dataframe\">\n",
              "  <thead>\n",
              "    <tr style=\"text-align: right;\">\n",
              "      <th></th>\n",
              "      <th>customerID</th>\n",
              "      <th>gender</th>\n",
              "      <th>tenure</th>\n",
              "      <th>MonthlyCharges</th>\n",
              "      <th>TotalCharges</th>\n",
              "      <th>Churn</th>\n",
              "    </tr>\n",
              "  </thead>\n",
              "  <tbody>\n",
              "    <tr>\n",
              "      <th>5218</th>\n",
              "      <td>2923-ARZLG</td>\n",
              "      <td>Male</td>\n",
              "      <td>0</td>\n",
              "      <td>19.7</td>\n",
              "      <td>NaN</td>\n",
              "      <td>No</td>\n",
              "    </tr>\n",
              "  </tbody>\n",
              "</table>\n",
              "</div>"
            ],
            "text/plain": [
              "      customerID gender  tenure  MonthlyCharges  TotalCharges Churn\n",
              "5218  2923-ARZLG   Male       0            19.7           NaN    No"
            ]
          },
          "metadata": {},
          "execution_count": 10
        }
      ]
    },
    {
      "cell_type": "markdown",
      "metadata": {
        "id": "d9G81MIU8ugP"
      },
      "source": [
        "A partir desta análise, vamos **desconsiderar** todos os dados em que a variável **tenure** é zero, já que são clientes que acabaram de ingressar na empresa e naturalmente **não** irão influenciar na taxa de Churn."
      ]
    },
    {
      "cell_type": "code",
      "metadata": {
        "id": "SbW6baYU4wOY"
      },
      "source": [
        "#tratamento dos valores vazios\n",
        "df.dropna(inplace=True)"
      ],
      "execution_count": 11,
      "outputs": []
    },
    {
      "cell_type": "code",
      "metadata": {
        "id": "Ty63VIuGOlCu",
        "colab": {
          "base_uri": "https://localhost:8080/",
          "height": 297
        },
        "outputId": "ec76e037-955b-4c92-de84-8e82ed9bc245"
      },
      "source": [
        "#estatistica descritiva de nossos dados após desconsiderar clientes que acabaram de ingressar na empresa\n",
        "df.describe().round(2)"
      ],
      "execution_count": 12,
      "outputs": [
        {
          "output_type": "execute_result",
          "data": {
            "text/html": [
              "<div>\n",
              "<style scoped>\n",
              "    .dataframe tbody tr th:only-of-type {\n",
              "        vertical-align: middle;\n",
              "    }\n",
              "\n",
              "    .dataframe tbody tr th {\n",
              "        vertical-align: top;\n",
              "    }\n",
              "\n",
              "    .dataframe thead th {\n",
              "        text-align: right;\n",
              "    }\n",
              "</style>\n",
              "<table border=\"1\" class=\"dataframe\">\n",
              "  <thead>\n",
              "    <tr style=\"text-align: right;\">\n",
              "      <th></th>\n",
              "      <th>SeniorCitizen</th>\n",
              "      <th>tenure</th>\n",
              "      <th>MonthlyCharges</th>\n",
              "      <th>TotalCharges</th>\n",
              "    </tr>\n",
              "  </thead>\n",
              "  <tbody>\n",
              "    <tr>\n",
              "      <th>count</th>\n",
              "      <td>7032.00</td>\n",
              "      <td>7032.00</td>\n",
              "      <td>7032.00</td>\n",
              "      <td>7032.00</td>\n",
              "    </tr>\n",
              "    <tr>\n",
              "      <th>mean</th>\n",
              "      <td>0.16</td>\n",
              "      <td>32.42</td>\n",
              "      <td>64.80</td>\n",
              "      <td>2283.30</td>\n",
              "    </tr>\n",
              "    <tr>\n",
              "      <th>std</th>\n",
              "      <td>0.37</td>\n",
              "      <td>24.55</td>\n",
              "      <td>30.09</td>\n",
              "      <td>2266.77</td>\n",
              "    </tr>\n",
              "    <tr>\n",
              "      <th>min</th>\n",
              "      <td>0.00</td>\n",
              "      <td>1.00</td>\n",
              "      <td>18.25</td>\n",
              "      <td>18.80</td>\n",
              "    </tr>\n",
              "    <tr>\n",
              "      <th>25%</th>\n",
              "      <td>0.00</td>\n",
              "      <td>9.00</td>\n",
              "      <td>35.59</td>\n",
              "      <td>401.45</td>\n",
              "    </tr>\n",
              "    <tr>\n",
              "      <th>50%</th>\n",
              "      <td>0.00</td>\n",
              "      <td>29.00</td>\n",
              "      <td>70.35</td>\n",
              "      <td>1397.48</td>\n",
              "    </tr>\n",
              "    <tr>\n",
              "      <th>75%</th>\n",
              "      <td>0.00</td>\n",
              "      <td>55.00</td>\n",
              "      <td>89.86</td>\n",
              "      <td>3794.74</td>\n",
              "    </tr>\n",
              "    <tr>\n",
              "      <th>max</th>\n",
              "      <td>1.00</td>\n",
              "      <td>72.00</td>\n",
              "      <td>118.75</td>\n",
              "      <td>8684.80</td>\n",
              "    </tr>\n",
              "  </tbody>\n",
              "</table>\n",
              "</div>"
            ],
            "text/plain": [
              "       SeniorCitizen   tenure  MonthlyCharges  TotalCharges\n",
              "count        7032.00  7032.00         7032.00       7032.00\n",
              "mean            0.16    32.42           64.80       2283.30\n",
              "std             0.37    24.55           30.09       2266.77\n",
              "min             0.00     1.00           18.25         18.80\n",
              "25%             0.00     9.00           35.59        401.45\n",
              "50%             0.00    29.00           70.35       1397.48\n",
              "75%             0.00    55.00           89.86       3794.74\n",
              "max             1.00    72.00          118.75       8684.80"
            ]
          },
          "metadata": {},
          "execution_count": 12
        }
      ]
    },
    {
      "cell_type": "markdown",
      "metadata": {
        "id": "CHZSI_6iPEsi"
      },
      "source": [
        "Verificamos que as variáveis **ternure**, **MonthlyCharges** e **TotalCharges** possuem desvios padrões muito **acentuados** em relação a média."
      ]
    },
    {
      "cell_type": "code",
      "metadata": {
        "id": "lad0nfjUGvtA",
        "colab": {
          "base_uri": "https://localhost:8080/",
          "height": 383
        },
        "outputId": "0334bf6b-b751-4420-ae73-b9549f0b1a1a"
      },
      "source": [
        "#criando os outputs do matplotlib\n",
        "fig, ax = plt.subplots(nrows=1,ncols=3,figsize=(16,6))\n",
        "\n",
        "#primeiro gráfico\n",
        "df['SeniorCitizen'].hist(ax=ax[0],grid=False,color='#054F77',alpha=0.4).set_frame_on(False)\n",
        "ax[0].set_title('Senior Citizen',loc='left',pad=30,fontdict={'fontsize':18,'Family':'Dejavu Sans'},color='#565656')\n",
        "ax[0].tick_params(axis='both',which='both',length=0)\n",
        "\n",
        "#segundo gráfico\n",
        "df['tenure'].hist(ax=ax[1],grid=False,rwidth=0.9,color='#054F77',alpha=0.8).set_frame_on(False)\n",
        "ax[1].set_title('Tenure',loc='left',pad=30,fontdict={'fontsize':18,'Family':'Dejavu Sans'},color='#565656')\n",
        "ax[1].tick_params(axis='both',which='both',length=0)\n",
        "\n",
        "#terceiro gráfico\n",
        "df['MonthlyCharges'].hist(ax=ax[2],grid=False,rwidth=0.9,color='#054F77',alpha=1.0).set_frame_on(False)\n",
        "ax[2].set_title('Monthly Charges',loc='left',pad=30,fontdict={'fontsize':18,'Family':'Dejavu Sans'},color='#565656')\n",
        "ax[2].tick_params(axis='both',which='both',length=0)\n",
        "\n",
        "#exibir o gráfico\n",
        "plt.tight_layout(pad=4.0);"
      ],
      "execution_count": 13,
      "outputs": [
        {
          "output_type": "display_data",
          "data": {
            "image/png": "[encoded data removed]",
            "text/plain": [
              "<Figure size 1152x432 with 3 Axes>"
            ]
          },
          "metadata": {
            "needs_background": "light"
          }
        }
      ]
    },
    {
      "cell_type": "markdown",
      "metadata": {
        "id": "7Gfqx5yQWTkC"
      },
      "source": [
        "Pela análise dos histogramas, podemos notar que:\n",
        "* A maioria de clientes de nossa base de dados não são idosos.\n",
        "* Grande parte dos dados são de clientes recentes (variável Tenure).\n",
        "* O maior número de recargas mensais são dos menores valores."
      ]
    },
    {
      "cell_type": "code",
      "metadata": {
        "id": "KXnvo9rbRwAb"
      },
      "source": [
        "#função para adicionar os labels\n",
        "def addlabels(x,y):\n",
        "  for i in range(len(x)):\n",
        "    ax.annotate(y[i],xy=(i,y[i]),xytext=(i-0.13,y[i]+100),fontsize=18,fontfamily='Dejavu Sans',color='grey')  "
      ],
      "execution_count": 14,
      "outputs": []
    },
    {
      "cell_type": "code",
      "metadata": {
        "id": "itCKUAetGvvO",
        "colab": {
          "base_uri": "https://localhost:8080/",
          "height": 423
        },
        "outputId": "7bf6d2cc-44a3-45ea-d5c7-4ad149340974"
      },
      "source": [
        "#criando o figure e o ax no matplotlib\n",
        "fig, ax = plt.subplots(figsize=(8,6))\n",
        "\n",
        "#quantidade dos principais tipos de serviço\n",
        "df['Contract'].value_counts().plot(kind='bar',rot=0,ax=ax,color='#054F77',alpha=0.8).set_frame_on(False)\n",
        "ax.get_yaxis().set_visible(False)\n",
        "ax.set_title('Quantidade de cliente por tipo de contrato',loc='left',pad=30,fontdict={'fontsize':24,'Family':'Dejavu Sans'},color='dimgrey')\n",
        "ax.tick_params(axis='x',length=0,labelsize=13,labelcolor='#242526')\n",
        "\n",
        "#adicionando os rótulos ao gráfico\n",
        "addlabels(df['Contract'].unique(),df['Contract'].value_counts())\n",
        "\n",
        "#exibir o gráfico\n",
        "plt.tight_layout(pad=2.0);"
      ],
      "execution_count": 15,
      "outputs": [
        {
          "output_type": "display_data",
          "data": {
            "image/png": "[encoded data removed]",
            "text/plain": [
              "<Figure size 576x432 with 1 Axes>"
            ]
          },
          "metadata": {
            "needs_background": "light"
          }
        }
      ]
    },
    {
      "cell_type": "code",
      "metadata": {
        "id": "dLgmMTb-Gvzc",
        "colab": {
          "base_uri": "https://localhost:8080/",
          "height": 441
        },
        "outputId": "bb9c065d-a606-482b-f268-7a6eca04eb97"
      },
      "source": [
        "#criando o figure e o axes no matplotlib \n",
        "fig, ax = plt.subplots(figsize=(8,6))\n",
        "\n",
        "#Verificando o balanceamento dos dados\n",
        "df.Churn.value_counts().plot.bar(ax=ax,color='#000066',rot=0).set_frame_on(False)\n",
        "ax.get_yaxis().set_visible(False)\n",
        "ax.tick_params(axis='x',length=0,labelsize=13,labelcolor='#242526')\n",
        "ax.set_xticklabels(['Não cancelou o Serviço','Cancelou o Serviço'],fontdict={'fontsize':15},color='#6a6a6f')\n",
        "ax.set_title('Avaliando o balanceamento dos dados',loc='left',pad=30,fontdict={'fontsize':30},color='dimgrey')\n",
        "addlabels(df.Churn.unique(),df.Churn.value_counts())\n",
        "\n",
        "#plotando o gráfico\n",
        "plt.tight_layout();"
      ],
      "execution_count": 16,
      "outputs": [
        {
          "output_type": "display_data",
          "data": {
            "image/png": "[encoded data removed]",
            "text/plain": [
              "<Figure size 576x432 with 1 Axes>"
            ]
          },
          "metadata": {
            "needs_background": "light"
          }
        }
      ]
    },
    {
      "cell_type": "markdown",
      "metadata": {
        "id": "YxbQrDEGPqIb"
      },
      "source": [
        "## Preparando os Dados e Elaborando os Modelos"
      ]
    },
    {
      "cell_type": "markdown",
      "metadata": {
        "id": "PEsbsr8L7s1g"
      },
      "source": [
        "Nossas variáveis precisam ser tratadas de formas **diferentes**. Algumas precisam de transformações categóricas e outras numéricas.Uma boa maneira de realizar estas transformações de forma **conjunta** é utilizar o [ColumnTransformer](https://scikit-learn.org/stable/modules/generated/sklearn.compose.ColumnTransformer.html).\n",
        "\n",
        "Utilizamos o **StandarScaler** para diminuir a escala do intervalo de dados, **padronizando** através de uma distribuição normal.\n",
        "\n",
        "E utilizamos o **OneHotEncoder** para transformar variáveis categóricas em numéricas, considerando que **não** há uma hierarquia dentro dos valores destas variáveis."
      ]
    },
    {
      "cell_type": "code",
      "metadata": {
        "id": "-TZYS6lJs9q7"
      },
      "source": [
        "#Separando as variáveis númericas\n",
        "standard_numeric_features = ['tenure','MonthlyCharges','TotalCharges']\n",
        "\n",
        "#Instanciando o StandardScaler\n",
        "standard_numeric_transformer = StandardScaler()\n",
        "\n",
        "#Separando as variáveis cartegóricas\n",
        "categorical_features = ['gender','Partner','Dependents',\n",
        "      'PhoneService', 'MultipleLines', 'InternetService', 'OnlineSecurity',\n",
        "       'OnlineBackup', 'DeviceProtection', 'TechSupport', 'StreamingTV',\n",
        "      'StreamingMovies', 'Contract', 'PaperlessBilling', 'PaymentMethod']\n",
        "\n",
        "#Instanciando o OneHotEncoder\n",
        "categorical_transformer = OneHotEncoder(sparse=False)\n",
        "\n",
        "#Realizando transformações diferentes para as colunas\n",
        "preprocessor = ColumnTransformer(transformers=[('num_stardard',standard_numeric_transformer,standard_numeric_features),\n",
        "                                               ('cat',categorical_transformer,categorical_features)])"
      ],
      "execution_count": 17,
      "outputs": []
    },
    {
      "cell_type": "markdown",
      "metadata": {
        "id": "yNy-cEHg9WfG"
      },
      "source": [
        "Já notamos que a variável-alvo Churn se encontra como uma **string** (\"Yes\", \"No\"). Este tipo de dado **dificulta** o aprendizado do algoritmo, portanto é necessário realizar uma transformação destas **labels** em variáveis **numéricas**. Uma boa opção é utilizar o [Label Encoder](https://scikit-learn.org/stable/modules/generated/sklearn.preprocessing.LabelEncoder.html), já que existe uma hierarquia entre as categorias, ou seja, nesta caso para a empresa o cliente que está saindo tem maior importância.\n"
      ]
    },
    {
      "cell_type": "code",
      "metadata": {
        "id": "ZHgiZgsz2Zda"
      },
      "source": [
        "#mudando o Churn para variável númerica\n",
        "df['Churn'] = LabelEncoder().fit_transform(df['Churn'])"
      ],
      "execution_count": 18,
      "outputs": []
    },
    {
      "cell_type": "markdown",
      "metadata": {
        "id": "52p2wJdb-JQ3"
      },
      "source": [
        "Inicialmente precisamos separar as variáveis nos termos x e y. Além disso, é necessário diferenciar os dados de treino e teste. "
      ]
    },
    {
      "cell_type": "code",
      "metadata": {
        "id": "Q3S5sTj5dRVL"
      },
      "source": [
        "#definindo x e y\n",
        "x=df.drop(['customerID','Churn'],axis=1)\n",
        "y=df.Churn\n",
        "\n",
        "#dividindo os dados em treino e teste\n",
        "x_train,x_test,y_train,y_test = train_test_split(x,y)"
      ],
      "execution_count": 19,
      "outputs": []
    },
    {
      "cell_type": "markdown",
      "metadata": {
        "id": "NVWqa1zz-Wty"
      },
      "source": [
        "Como anteriormente vimos, os dados estão um pouco **desbalanceados**. Ou seja, há uma \"preferência\" maior para que determinados dados aparecem mais vezes. Uma maneira de tentar abrandar este efeito é com o uso do [Random Under Sampler](https://imbalanced-learn.org/stable/references/generated/imblearn.under_sampling.RandomUnderSampler.html).\n",
        "\n",
        "\n"
      ]
    },
    {
      "cell_type": "code",
      "metadata": {
        "id": "1IBQvwk8Qdsq"
      },
      "source": [
        "#balanceamento dos dados -> usando técnica de undersampling -> elimina aleatoriamente entrada da classe com maior número de ocorrências\n",
        "x_rus,y_rus = RandomUnderSampler().fit_sample(x_train,y_train)"
      ],
      "execution_count": 20,
      "outputs": []
    },
    {
      "cell_type": "markdown",
      "metadata": {
        "id": "ioNW9LSm8SUZ"
      },
      "source": [
        "Como temos uma variável alvo definida, nosso algoritmo utilizado será do tipo **supervisionado**. Também, por querermos realizar uma **\"escolha\"** desta variável alvo, ou seja, queremos saber apenas se o cliente sairá ou não da empresa nosso algoritmo será de **Classificação**.\n",
        "\n",
        "Dois algoritmos de classificação interessantes para se utilizar nestes tipos de problema são a **Regressão Logística** e o **XGBoost**.\n",
        "\n",
        "Nesta análise também será utilizado o recurso [Grid Search](https://scikit-learn.org/stable/modules/generated/sklearn.model_selection.GridSearchCV.html) que tem o objetivo de avaliar qual é o melhor modelo gerado considerando todos os intervalos de valores de hiperparâmetros escolhidos."
      ]
    },
    {
      "cell_type": "markdown",
      "metadata": {
        "id": "06xOTQf2QJR_"
      },
      "source": [
        "### Regressão Logística"
      ]
    },
    {
      "cell_type": "markdown",
      "metadata": {
        "id": "9DrOg4cNV_Fx"
      },
      "source": [
        "> Utilizando os dados balanceados"
      ]
    },
    {
      "cell_type": "code",
      "metadata": {
        "id": "dZPDpEduRs1l"
      },
      "source": [
        "#Criando a Pipeline de preprocessamento para as variáveis\n",
        "clf_logis = Pipeline(steps=[('preprocessor',preprocessor),('classifier',LogisticRegression(random_state=42))])\n",
        "\n",
        "#Criando os parâmetros do GridSearchCV\n",
        "param_grid_logis = {'classifier__C':[0.01,0.1,1.0,10,100]}\n",
        "\n",
        "#Instanciando o GridSearchCV\n",
        "grid_search_logis_balanceados = GridSearchCV(clf_logis,param_grid_logis,cv=5,scoring='recall')\n",
        "\n",
        "#treinando o modelo\n",
        "grid_search_logis_balanceados.fit(pd.DataFrame(x_rus,columns=x_train.columns),y_rus);"
      ],
      "execution_count": 21,
      "outputs": []
    },
    {
      "cell_type": "code",
      "metadata": {
        "id": "1iYh7dhNUIXc",
        "colab": {
          "base_uri": "https://localhost:8080/"
        },
        "outputId": "321d189d-4b16-47f6-bb06-2c229f735209"
      },
      "source": [
        "print(\"model score: %.3f\" % grid_search_logis_balanceados.score(x_test, y_test))"
      ],
      "execution_count": 22,
      "outputs": [
        {
          "output_type": "stream",
          "name": "stdout",
          "text": [
            "model score: 0.815\n"
          ]
        }
      ]
    },
    {
      "cell_type": "markdown",
      "metadata": {
        "id": "kHj8uQCiWF58"
      },
      "source": [
        "> Utilizando os dados não balanceados"
      ]
    },
    {
      "cell_type": "code",
      "metadata": {
        "id": "QFhIqVMWWINj"
      },
      "source": [
        "#Criando a Pipeline de preprocessamento para as variáveis\n",
        "clf_logis = Pipeline(steps=[('preprocessor',preprocessor),('classifier',LogisticRegression(random_state=42))])\n",
        "\n",
        "#Criando os parâmetros do GridSearchCV\n",
        "param_grid_logis = {'classifier__C':[0.01,0.1,1.0,10,100]}\n",
        "\n",
        "#Instanciando o GridSearchCV\n",
        "grid_search_logis_desbalanceados = GridSearchCV(clf_logis,param_grid_logis,cv=5,scoring='recall')\n",
        "\n",
        "#treinando o modelo\n",
        "grid_search_logis_desbalanceados.fit(x_train,y_train);"
      ],
      "execution_count": 23,
      "outputs": []
    },
    {
      "cell_type": "code",
      "metadata": {
        "id": "3k5NU8rrWSQv",
        "colab": {
          "base_uri": "https://localhost:8080/"
        },
        "outputId": "4f60a604-3b06-4e30-e4c2-3e98097fb71f"
      },
      "source": [
        "print(\"model score: %.3f\" % grid_search_logis_desbalanceados.score(x_test, y_test))"
      ],
      "execution_count": 24,
      "outputs": [
        {
          "output_type": "stream",
          "name": "stdout",
          "text": [
            "model score: 0.570\n"
          ]
        }
      ]
    },
    {
      "cell_type": "markdown",
      "metadata": {
        "id": "EQAsYOLwRApQ"
      },
      "source": [
        "### XGBoost"
      ]
    },
    {
      "cell_type": "markdown",
      "metadata": {
        "id": "pGJJ-BKL8Npy"
      },
      "source": [
        "> Utilizando os dados balanceados"
      ]
    },
    {
      "cell_type": "code",
      "metadata": {
        "id": "mH3m3nhJ8IJu"
      },
      "source": [
        "#Criando a Pipeline de preprocessamento para as variáveis\n",
        "clf_xgb = Pipeline(steps=[('preprocessor',preprocessor),('classifier',XGBClassifier(random_state=42))])\n",
        "\n",
        "#Criando os parâmetros do GridSearchCV\n",
        "param_grid_xgb = {'classifier__n_estimators':[50,100,200],\n",
        "                  'classifier__learning_rate':[0.003,0.005,0.01],\n",
        "                  'classifier__max_depth':[2,3,5],\n",
        "                  'classifier__subsample':[0.2,0.3,0.5],\n",
        "                  'classifier__gamma':[0,1]}\n",
        "\n",
        "#Instanciando o GridSearchCV\n",
        "grid_search_xgb_balanceados = GridSearchCV(clf_xgb,param_grid_xgb,cv=5,scoring='recall')\n",
        "\n",
        "#treinando o modelo\n",
        "grid_search_xgb_balanceados.fit(pd.DataFrame(x_rus,columns=x_train.columns),y_rus);"
      ],
      "execution_count": 25,
      "outputs": []
    },
    {
      "cell_type": "code",
      "metadata": {
        "colab": {
          "base_uri": "https://localhost:8080/"
        },
        "id": "w7RubwIp8JDV",
        "outputId": "64bc63c5-250d-4c14-b10a-5f68d57a9732"
      },
      "source": [
        "print(\"model score: %.3f\" % grid_search_xgb_balanceados.score(x_test, y_test))"
      ],
      "execution_count": 26,
      "outputs": [
        {
          "output_type": "stream",
          "name": "stdout",
          "text": [
            "model score: 0.845\n"
          ]
        }
      ]
    },
    {
      "cell_type": "code",
      "metadata": {
        "colab": {
          "base_uri": "https://localhost:8080/"
        },
        "id": "AJ12Rlwv8b4j",
        "outputId": "999dfb7d-1093-422f-f36f-4d105bc33398"
      },
      "source": [
        "grid_search_xgb_balanceados.best_params_"
      ],
      "execution_count": 27,
      "outputs": [
        {
          "output_type": "execute_result",
          "data": {
            "text/plain": [
              "{'classifier__gamma': 0,\n",
              " 'classifier__learning_rate': 0.005,\n",
              " 'classifier__max_depth': 3,\n",
              " 'classifier__n_estimators': 50,\n",
              " 'classifier__subsample': 0.5}"
            ]
          },
          "metadata": {},
          "execution_count": 27
        }
      ]
    },
    {
      "cell_type": "markdown",
      "metadata": {
        "id": "-Az2DszlAtVf"
      },
      "source": [
        "> Utilizando os dados desbalanceados"
      ]
    },
    {
      "cell_type": "code",
      "metadata": {
        "id": "gLqHmYwoh_dj"
      },
      "source": [
        "#Criando a Pipeline de preprocessamento para as variáveis\n",
        "clf_xgb = Pipeline(steps=[('preprocessor',preprocessor),('classifier',XGBClassifier(random_state=42))])\n",
        "\n",
        "#Criando os parâmetros do GridSearchCV\n",
        "param_grid_xgb = {'classifier__n_estimators':[50,100,200],\n",
        "                  'classifier__learning_rate':[0.003,0.005,0.01],\n",
        "                  'classifier__max_depth':[2,3,5],\n",
        "                  'classifier__subsample':[0.2,0.3,0.5],\n",
        "                  'classifier__gamma':[0,1]}\n",
        "\n",
        "\n",
        "#Instanciando o GridSearchCV\n",
        "grid_search_xgb_desbalanceados = GridSearchCV(clf_xgb,param_grid_xgb,cv=5,scoring='recall')\n",
        "\n",
        "#treinando o modelo\n",
        "grid_search_xgb_desbalanceados.fit(x_train,y_train);"
      ],
      "execution_count": 28,
      "outputs": []
    },
    {
      "cell_type": "code",
      "metadata": {
        "colab": {
          "base_uri": "https://localhost:8080/"
        },
        "id": "KtI-e9sZ6JiK",
        "outputId": "2f02cde1-e0b8-4ec2-8827-65c90fe4aef5"
      },
      "source": [
        "print(\"model score: %.3f\" % grid_search_xgb_desbalanceados.score(x_test, y_test))"
      ],
      "execution_count": 29,
      "outputs": [
        {
          "output_type": "stream",
          "name": "stdout",
          "text": [
            "model score: 0.486\n"
          ]
        }
      ]
    },
    {
      "cell_type": "code",
      "metadata": {
        "colab": {
          "base_uri": "https://localhost:8080/"
        },
        "id": "m_Avd_R9kaz2",
        "outputId": "5e298d6c-7e7f-49cb-d948-105d1150cc7b"
      },
      "source": [
        "grid_search_xgb_desbalanceados.best_params_"
      ],
      "execution_count": 30,
      "outputs": [
        {
          "output_type": "execute_result",
          "data": {
            "text/plain": [
              "{'classifier__gamma': 0,\n",
              " 'classifier__learning_rate': 0.003,\n",
              " 'classifier__max_depth': 2,\n",
              " 'classifier__n_estimators': 50,\n",
              " 'classifier__subsample': 0.5}"
            ]
          },
          "metadata": {},
          "execution_count": 30
        }
      ]
    },
    {
      "cell_type": "markdown",
      "metadata": {
        "id": "pfd0Sqe0FD3k"
      },
      "source": [
        "## Matriz de Confusão dos Modelos"
      ]
    },
    {
      "cell_type": "code",
      "metadata": {
        "colab": {
          "base_uri": "https://localhost:8080/",
          "height": 527
        },
        "id": "61qqurFS9QY_",
        "outputId": "826d7eba-af27-4838-e819-55aac2604b3d"
      },
      "source": [
        "#criando o figure e o axes no matplotlib \n",
        "fig, ax = plt.subplots(figsize=(12,8),ncols=2,nrows=2)\n",
        "\n",
        "#primeiro gráfico -> Regressão Logística Dados balanceados\n",
        "plot_confusion_matrix(grid_search_logis_balanceados,x_test,y_test,normalize='true',ax=ax[0][0],cmap='Blues');\n",
        "ax[0][0].set_title('Dados Balanceados - Regressão Logística',loc='center',pad=10,fontdict={'fontsize':15},color='blue')\n",
        "\n",
        "#segundo gráfico -> XGBoost Dados balanceados\n",
        "plot_confusion_matrix(grid_search_xgb_balanceados,x_test,y_test,normalize='true',ax=ax[0][1],cmap='Blues');\n",
        "ax[0][1].set_title('Dados Balanceados - XGBoost',loc='center',pad=10,fontdict={'fontsize':15},color='blue')\n",
        "\n",
        "#terceiro gráfico -> Regressão Logística Dados desbalanceados\n",
        "plot_confusion_matrix(grid_search_logis_desbalanceados,x_test,y_test,normalize='true',ax=ax[1][0],cmap='Greys');\n",
        "ax[1][0].set_title('Dados Desbalanceados - Regressão Logística',loc='center',pad=10,fontdict={'fontsize':15},color='dimgrey')\n",
        "\n",
        "#quarto gráfico -> XGBoost Dados desbalanceados\n",
        "plot_confusion_matrix(grid_search_xgb_desbalanceados,x_test,y_test,normalize='true',ax=ax[1][1],cmap='Greys');\n",
        "ax[1][1].set_title('Dados Desbalanceados - XGBoost',loc='center',pad=10,fontdict={'fontsize':15},color='dimgrey')\n",
        "\n",
        "#plotando o gráfico\n",
        "plt.tight_layout(pad=4.0);"
      ],
      "execution_count": 31,
      "outputs": [
        {
          "output_type": "display_data",
          "data": {
            "image/png": "[encoded data removed]",
            "text/plain": [
              "<Figure size 864x576 with 8 Axes>"
            ]
          },
          "metadata": {
            "needs_background": "light"
          }
        }
      ]
    },
    {
      "cell_type": "markdown",
      "metadata": {
        "id": "3VYtYls4FAyb"
      },
      "source": [
        "Nosso objetivo principal é saber qual cliente tem maior tendência a **sair** da empresa. Portanto, estamos mais interessados quando o modelo prevê esta saída e o cliente de fato saiu. (*Ou seja, Predicted label == 1 e True label ==1, 4º quadrante da matriz de confusão*).\n",
        "\n",
        "Pela análise das matrizes de confusão, avaliamos que obtemos melhores resultados para os dados que foram **balanceados**. O uso do algoritmo XGBoost parece mais **promissor**, já que podemos melhorar o **tuning** de outros hiperparâmetros não abordados nesta análise."
      ]
    },
    {
      "cell_type": "markdown",
      "metadata": {
        "id": "04QHH8i0P6Kr"
      },
      "source": [
        "## Conclusões\n",
        "\n",
        "* Geralmente as bases de dados vem com variáveis categóricas e numéricas. O tratamento adequado se faz necessário para inputar nos modelos de machine learning.\n",
        "\n",
        "* As métricas utilizadas para avaliar os resultados do modelo depende de cada tipo de problema, não existe uma única métrica que deve ser usada.\n",
        "* É importante balancear os dados, quando necessário. Como neste caso analisado, dados desbalanceados geravam piores modelos.\n",
        "* Atingimos um recall de cerca de 85% para o modelo XGBoost. Este algoritmo possui muitos hiperparâmetros e para uma melhoria de nossos resultados podemos trabalhar em cima deles."
      ]
    }
  ]
}